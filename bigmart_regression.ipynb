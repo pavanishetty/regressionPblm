{
 "cells": [
  {
   "cell_type": "code",
   "execution_count": 2,
   "metadata": {},
   "outputs": [],
   "source": [
    "#import required libraries\n",
    "\n",
    "import pandas as pd\n",
    "import numpy as np\n",
    "import matplotlib.pyplot as plt\n",
    "%matplotlib inline"
   ]
  },
  {
   "cell_type": "code",
   "execution_count": 17,
   "metadata": {},
   "outputs": [
    {
     "name": "stdout",
     "output_type": "stream",
     "text": [
      "8523\n"
     ]
    }
   ],
   "source": [
    "#read train dataset \n",
    "\n",
    "train_data = pd.read_csv('train_CSRqzyo.csv')\n",
    "train_data.head(10)\n",
    "train_data.shape\n",
    "x_len = len(train_data)\n",
    "print(x_len)"
   ]
  },
  {
   "cell_type": "code",
   "execution_count": 90,
   "metadata": {},
   "outputs": [],
   "source": [
    "y_train = train_data['Item_Outlet_Sales']\n",
    "train_data = train_data.drop('Item_Outlet_Sales', axis=1)"
   ]
  },
  {
   "cell_type": "code",
   "execution_count": 18,
   "metadata": {},
   "outputs": [
    {
     "data": {
      "text/plain": [
       "(5681, 10)"
      ]
     },
     "execution_count": 18,
     "metadata": {},
     "output_type": "execute_result"
    }
   ],
   "source": [
    "#read test dataset, display top 5 rows and find its dimensions\n",
    "\n",
    "test_data = pd.read_csv('test_wYRkl1c.csv')\n",
    "test_data.head()\n",
    "test_data.shape"
   ]
  },
  {
   "cell_type": "code",
   "execution_count": 19,
   "metadata": {},
   "outputs": [],
   "source": [
    "#extracting id's from test dataset\n",
    "item_id = test_data['ID']"
   ]
  },
  {
   "cell_type": "code",
   "execution_count": 20,
   "metadata": {},
   "outputs": [],
   "source": [
    "data_set = pd.concat([train_data,test_data],sort=False)"
   ]
  },
  {
   "cell_type": "code",
   "execution_count": 21,
   "metadata": {},
   "outputs": [],
   "source": [
    "data_set = pd.get_dummies(data_set)"
   ]
  },
  {
   "cell_type": "code",
   "execution_count": 22,
   "metadata": {},
   "outputs": [],
   "source": [
    "#split into train and test data sets\n",
    "x_train,test_data = data_set.iloc[:x_len,:],data_set.iloc[x_len:,:]"
   ]
  },
  {
   "cell_type": "code",
   "execution_count": 23,
   "metadata": {},
   "outputs": [
    {
     "data": {
      "text/plain": [
       "Item_Weight                        1463\n",
       "Item_Visibility                       0\n",
       "Item_MRP                              0\n",
       "Outlet_Establishment_Year             0\n",
       "Item_Outlet_Sales                     0\n",
       "Item_Fat_Content_LF                   0\n",
       "Item_Fat_Content_Low Fat              0\n",
       "Item_Fat_Content_Regular              0\n",
       "Item_Fat_Content_low fat              0\n",
       "Item_Fat_Content_reg                  0\n",
       "Item_Type_Baking Goods                0\n",
       "Item_Type_Breads                      0\n",
       "Item_Type_Breakfast                   0\n",
       "Item_Type_Canned                      0\n",
       "Item_Type_Dairy                       0\n",
       "Item_Type_Frozen Foods                0\n",
       "Item_Type_Fruits and Vegetables       0\n",
       "Item_Type_Hard Drinks                 0\n",
       "Item_Type_Health and Hygiene          0\n",
       "Item_Type_Household                   0\n",
       "Item_Type_Meat                        0\n",
       "Item_Type_Others                      0\n",
       "Item_Type_Seafood                     0\n",
       "Item_Type_Snack Foods                 0\n",
       "Item_Type_Soft Drinks                 0\n",
       "Item_Type_Starchy Foods               0\n",
       "Outlet_Size_High                      0\n",
       "Outlet_Size_Medium                    0\n",
       "Outlet_Size_Small                     0\n",
       "Outlet_Location_Type_Tier 1           0\n",
       "                                   ... \n",
       "ID_NCZ41OUT049                        0\n",
       "ID_NCZ42OUT010                        0\n",
       "ID_NCZ42OUT013                        0\n",
       "ID_NCZ42OUT017                        0\n",
       "ID_NCZ42OUT018                        0\n",
       "ID_NCZ42OUT019                        0\n",
       "ID_NCZ42OUT027                        0\n",
       "ID_NCZ42OUT035                        0\n",
       "ID_NCZ42OUT045                        0\n",
       "ID_NCZ42OUT046                        0\n",
       "ID_NCZ42OUT049                        0\n",
       "ID_NCZ53OUT010                        0\n",
       "ID_NCZ53OUT013                        0\n",
       "ID_NCZ53OUT017                        0\n",
       "ID_NCZ53OUT018                        0\n",
       "ID_NCZ53OUT027                        0\n",
       "ID_NCZ53OUT035                        0\n",
       "ID_NCZ53OUT045                        0\n",
       "ID_NCZ53OUT046                        0\n",
       "ID_NCZ53OUT049                        0\n",
       "ID_NCZ54OUT010                        0\n",
       "ID_NCZ54OUT013                        0\n",
       "ID_NCZ54OUT017                        0\n",
       "ID_NCZ54OUT018                        0\n",
       "ID_NCZ54OUT019                        0\n",
       "ID_NCZ54OUT027                        0\n",
       "ID_NCZ54OUT035                        0\n",
       "ID_NCZ54OUT045                        0\n",
       "ID_NCZ54OUT046                        0\n",
       "ID_NCZ54OUT049                        0\n",
       "Length: 14240, dtype: int64"
      ]
     },
     "execution_count": 23,
     "metadata": {},
     "output_type": "execute_result"
    }
   ],
   "source": [
    "x_train.isnull().sum()"
   ]
  },
  {
   "cell_type": "code",
   "execution_count": 118,
   "metadata": {},
   "outputs": [
    {
     "name": "stderr",
     "output_type": "stream",
     "text": [
      "C:\\Users\\pavani singam shetty\\Anaconda3\\lib\\site-packages\\pandas\\core\\frame.py:3790: SettingWithCopyWarning: \n",
      "A value is trying to be set on a copy of a slice from a DataFrame\n",
      "\n",
      "See the caveats in the documentation: http://pandas.pydata.org/pandas-docs/stable/indexing.html#indexing-view-versus-copy\n",
      "  downcast=downcast, **kwargs)\n"
     ]
    }
   ],
   "source": [
    "x_train.fillna(0,inplace=True)"
   ]
  },
  {
   "cell_type": "code",
   "execution_count": 119,
   "metadata": {},
   "outputs": [],
   "source": [
    "test_data.fillna(0,inplace=True)"
   ]
  },
  {
   "cell_type": "code",
   "execution_count": 120,
   "metadata": {},
   "outputs": [],
   "source": [
    "#applying linear regression algorithm\n",
    "\n",
    "from sklearn.linear_model import LinearRegression"
   ]
  },
  {
   "cell_type": "code",
   "execution_count": 121,
   "metadata": {},
   "outputs": [],
   "source": [
    "lreg = LinearRegression()"
   ]
  },
  {
   "cell_type": "code",
   "execution_count": 122,
   "metadata": {},
   "outputs": [
    {
     "data": {
      "text/plain": [
       "LinearRegression(copy_X=True, fit_intercept=True, n_jobs=None,\n",
       "         normalize=False)"
      ]
     },
     "execution_count": 122,
     "metadata": {},
     "output_type": "execute_result"
    }
   ],
   "source": [
    "lreg.fit(x_train,y_train)"
   ]
  },
  {
   "cell_type": "code",
   "execution_count": 123,
   "metadata": {},
   "outputs": [
    {
     "name": "stdout",
     "output_type": "stream",
     "text": [
      "[1836.12497378 1419.56213331 1887.93950089 ... 1836.28046235 3577.47210883\n",
      " 1300.27171201]\n"
     ]
    }
   ],
   "source": [
    "#predict the model\n",
    "\n",
    "pred = lreg.predict(test_data)\n",
    "print(pred)"
   ]
  },
  {
   "cell_type": "code",
   "execution_count": 124,
   "metadata": {},
   "outputs": [
    {
     "data": {
      "text/plain": [
       "1.0"
      ]
     },
     "execution_count": 124,
     "metadata": {},
     "output_type": "execute_result"
    }
   ],
   "source": [
    "#performance of model\n",
    "\n",
    "lreg.score(x_train,y_train)"
   ]
  },
  {
   "cell_type": "code",
   "execution_count": 125,
   "metadata": {},
   "outputs": [],
   "source": [
    "rmse_train = np.sqrt(np.mean(np.power((np.array(y_train)-np.array(lreg.predict(x_train))),2)))"
   ]
  },
  {
   "cell_type": "code",
   "execution_count": 104,
   "metadata": {},
   "outputs": [
    {
     "name": "stdout",
     "output_type": "stream",
     "text": [
      "3.4655555143869803e-09\n"
     ]
    }
   ],
   "source": [
    "print(rmse_train)"
   ]
  },
  {
   "cell_type": "code",
   "execution_count": 151,
   "metadata": {},
   "outputs": [
    {
     "name": "stdout",
     "output_type": "stream",
     "text": [
      "               ID  Item_Outlet_Sales\n",
      "0     FDW58OUT049             1836.0\n",
      "1     FDW14OUT017             1420.0\n",
      "2     NCN55OUT010             1888.0\n",
      "3     FDQ58OUT017             2571.0\n",
      "4     FDY38OUT027             5138.0\n",
      "5     FDH56OUT046             1959.0\n",
      "6     FDL48OUT018              596.0\n",
      "7     FDC48OUT027             2781.0\n",
      "8     FDN33OUT045             1509.0\n",
      "9     FDA36OUT017             3082.0\n",
      "10    FDT44OUT017             2009.0\n",
      "11    FDQ56OUT045             1351.0\n",
      "12    NCC54OUT019             1868.0\n",
      "13    FDU11OUT049             2063.0\n",
      "14    DRL59OUT013              875.0\n",
      "15    FDM24OUT049             2562.0\n",
      "16    FDI57OUT045             3271.0\n",
      "17    DRC12OUT018             2751.0\n",
      "18    NCM42OUT027             3184.0\n",
      "19    FDA46OUT010             1122.0\n",
      "20    FDA31OUT013             2834.0\n",
      "21    NCJ31OUT035             3878.0\n",
      "22    FDG52OUT046              743.0\n",
      "23    NCL19OUT019              374.0\n",
      "24    FDS10OUT035             3010.0\n",
      "25    FDX22OUT010             1463.0\n",
      "26    NCF19OUT035              915.0\n",
      "27    NCE06OUT046             2529.0\n",
      "28    DRC27OUT046             3827.0\n",
      "29    FDE21OUT035             2029.0\n",
      "...           ...                ...\n",
      "5651  FDD23OUT013             3063.0\n",
      "5652  FDP32OUT045             2000.0\n",
      "5653  FDO31OUT035             1543.0\n",
      "5654  FDQ57OUT013             2351.0\n",
      "5655  FDX32OUT027             3805.0\n",
      "5656  FDC39OUT027             4671.0\n",
      "5657  FDU55OUT046             4162.0\n",
      "5658  FDL45OUT013             2005.0\n",
      "5659  DRK37OUT049             3081.0\n",
      "5660  FDK22OUT013             3443.0\n",
      "5661  DRG37OUT027             3921.0\n",
      "5662  FDK22OUT017             3490.0\n",
      "5663  DRH36OUT018              896.0\n",
      "5664  DRC36OUT018             2504.0\n",
      "5665  DRE03OUT027             2193.0\n",
      "5666  FDF34OUT046             3174.0\n",
      "5667  FDZ22OUT046             1334.0\n",
      "5668  FDC44OUT010              -88.0\n",
      "5669  FDN31OUT027             4460.0\n",
      "5670  FDO03OUT017             3775.0\n",
      "5671  FDA01OUT049             1051.0\n",
      "5672  NCH42OUT049             3728.0\n",
      "5673  FDF46OUT018             1574.0\n",
      "5674  DRL35OUT046              738.0\n",
      "5675  FDW46OUT049             1176.0\n",
      "5676  FDB58OUT046             2308.0\n",
      "5677  FDD47OUT018             2466.0\n",
      "5678  NCO17OUT045             1836.0\n",
      "5679  FDJ26OUT017             3577.0\n",
      "5680  FDU37OUT045             1300.0\n",
      "\n",
      "[5681 rows x 2 columns]\n"
     ]
    }
   ],
   "source": [
    "#concat id's and predicted values\n",
    "df1 = pd.DataFrame(item_id)\n",
    "df2['Item_Outlet_Sales'] = pd.DataFrame(pred)\n",
    "data = pd.concat([df1, round(df2['Item_Outlet_Sales'])], axis=1)\n",
    "print(data)"
   ]
  },
  {
   "cell_type": "code",
   "execution_count": 154,
   "metadata": {},
   "outputs": [],
   "source": [
    "#exporting dataframe to csv file\n",
    "\n",
    "export_csv = data.to_csv (r'C:\\Users\\pavani singam shetty\\datascience\\linear_reg.csv', index = None, header=True)"
   ]
  }
 ],
 "metadata": {
  "kernelspec": {
   "display_name": "Python 3",
   "language": "python",
   "name": "python3"
  },
  "language_info": {
   "codemirror_mode": {
    "name": "ipython",
    "version": 3
   },
   "file_extension": ".py",
   "mimetype": "text/x-python",
   "name": "python",
   "nbconvert_exporter": "python",
   "pygments_lexer": "ipython3",
   "version": "3.7.1"
  }
 },
 "nbformat": 4,
 "nbformat_minor": 2
}
